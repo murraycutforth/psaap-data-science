{
 "cells": [
  {
   "cell_type": "code",
   "outputs": [],
   "source": [
    "import numpy as np\n",
    "from sklearn.preprocessing import MinMaxScaler\n",
    "from sklearn.gaussian_process import GaussianProcessClassifier\n",
    "from sklearn.gaussian_process.kernels import RBF, WhiteKernel, Matern\n",
    "import matplotlib.pyplot as plt"
   ],
   "metadata": {
    "collapsed": false,
    "ExecuteTime": {
     "end_time": "2024-02-10T18:00:07.547758Z",
     "start_time": "2024-02-10T18:00:06.968546Z"
    }
   },
   "id": "1fbf742d41134f5d",
   "execution_count": 1
  },
  {
   "cell_type": "code",
   "execution_count": 2,
   "id": "initial_id",
   "metadata": {
    "collapsed": true,
    "ExecuteTime": {
     "end_time": "2024-02-10T18:00:07.552975Z",
     "start_time": "2024-02-10T18:00:07.549129Z"
    }
   },
   "outputs": [],
   "source": [
    "dataset = np.load(\"processed_dataset.npz\")\n",
    "X_train = dataset['X_train']\n",
    "Y_train = dataset['Y_train']\n",
    "X_test = dataset['X_test']\n",
    "Y_test = dataset['Y_test']\n",
    "\n",
    "scaler = MinMaxScaler()\n",
    "Y_train = scaler.fit_transform(Y_train)\n",
    "Y_test = scaler.transform(Y_test)\n",
    "\n",
    "# Convert to classification labels by checking if Y[:2] is greater than 0.5\n",
    "Y_train = (Y_train[:, 2] > 0.5).astype(int)\n",
    "Y_test = (Y_test[:, 2] > 0.5).astype(int)"
   ]
  },
  {
   "cell_type": "code",
   "outputs": [],
   "source": [
    "kernel = 1.0 * RBF(length_scale=1.0, length_scale_bounds=(1e-1, 10.0)) + WhiteKernel(noise_level=1, noise_level_bounds=(1e-10, 1e+1))\n",
    "gp = GaussianProcessClassifier(kernel=kernel, n_restarts_optimizer=10)\n",
    "gp.fit(X_train, Y_train)\n",
    "print(gp.kernel_)"
   ],
   "metadata": {
    "collapsed": false,
    "is_executing": true,
    "ExecuteTime": {
     "start_time": "2024-02-10T18:00:07.553467Z"
    }
   },
   "id": "6ccb492fafdbee19",
   "execution_count": null
  },
  {
   "cell_type": "code",
   "outputs": [],
   "source": [
    "Y_train_pred = gp.predict(X_train)\n",
    "Y_test_pred = gp.predict(X_test)\n",
    "\n",
    "print(\"Train accuracy:\", np.mean(Y_train_pred == Y_train))\n",
    "print(\"Test accuracy:\", np.mean(Y_test_pred == Y_test))"
   ],
   "metadata": {
    "collapsed": false,
    "is_executing": true
   },
   "id": "bb5496116aa9ee84",
   "execution_count": null
  },
  {
   "cell_type": "code",
   "outputs": [],
   "source": [
    "# Interpolate between first and last test set points\n",
    "\n",
    "def create_interpolated_test_set(X_test, num_interpolations):\n",
    "    first = X_test[0]\n",
    "    last = X_test[-1]\n",
    "\n",
    "    interpolated_test_set = np.zeros((num_interpolations, X_test.shape[1]))\n",
    "    for i in range(num_interpolations):\n",
    "        interpolated_test_set[i] = first + (last - first) * i / num_interpolations\n",
    "    return interpolated_test_set\n",
    "\n",
    "interpolated_test_set = create_interpolated_test_set(X_test, 100)\n"
   ],
   "metadata": {
    "collapsed": false,
    "is_executing": true
   },
   "id": "82b1dc72061681d4",
   "execution_count": null
  },
  {
   "cell_type": "code",
   "outputs": [],
   "source": [
    "y_pred_interp = gp.predict(interpolated_test_set)\n",
    "\n",
    "plt.plot(y_pred_interp)"
   ],
   "metadata": {
    "collapsed": false,
    "is_executing": true
   },
   "id": "17a64eb90a3cff12",
   "execution_count": null
  },
  {
   "cell_type": "code",
   "outputs": [],
   "source": [],
   "metadata": {
    "collapsed": false
   },
   "id": "6811d63749415b50"
  }
 ],
 "metadata": {
  "kernelspec": {
   "display_name": "Python 3",
   "language": "python",
   "name": "python3"
  },
  "language_info": {
   "codemirror_mode": {
    "name": "ipython",
    "version": 2
   },
   "file_extension": ".py",
   "mimetype": "text/x-python",
   "name": "python",
   "nbconvert_exporter": "python",
   "pygments_lexer": "ipython2",
   "version": "2.7.6"
  }
 },
 "nbformat": 4,
 "nbformat_minor": 5
}
